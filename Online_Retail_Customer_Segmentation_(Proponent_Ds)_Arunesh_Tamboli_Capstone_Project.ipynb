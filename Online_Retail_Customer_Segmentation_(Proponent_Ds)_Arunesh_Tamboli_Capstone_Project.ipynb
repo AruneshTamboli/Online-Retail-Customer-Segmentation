{
  "nbformat": 4,
  "nbformat_minor": 0,
  "metadata": {
    "kernelspec": {
      "display_name": "Python 3",
      "language": "python",
      "name": "python3"
    },
    "language_info": {
      "codemirror_mode": {
        "name": "ipython",
        "version": 3
      },
      "file_extension": ".py",
      "mimetype": "text/x-python",
      "name": "python",
      "nbconvert_exporter": "python",
      "pygments_lexer": "ipython3",
      "version": "3.6.6"
    },
    "colab": {
      "name": "Online Retail Customer Segmentation (Proponent_Ds) Arunesh Tamboli - Capstone Project.ipynb",
      "provenance": [],
      "collapsed_sections": [],
      "include_colab_link": true
    }
  },
  "cells": [
    {
      "cell_type": "markdown",
      "metadata": {
        "id": "view-in-github",
        "colab_type": "text"
      },
      "source": [
        "<a href=\"https://colab.research.google.com/github/AruneshTamboli/Online-Retail-Customer-Segmentation/blob/main/Online_Retail_Customer_Segmentation_(Proponent_Ds)_Arunesh_Tamboli_Capstone_Project.ipynb\" target=\"_parent\"><img src=\"https://colab.research.google.com/assets/colab-badge.svg\" alt=\"Open In Colab\"/></a>"
      ]
    },
    {
      "cell_type": "code",
      "metadata": {
        "id": "1IT3WqBtgYsZ"
      },
      "source": [
        ""
      ],
      "execution_count": null,
      "outputs": []
    },
    {
      "cell_type": "markdown",
      "metadata": {
        "id": "tOGC-qoyhJeX"
      },
      "source": [
        "# <b><u> Project Title : Extraction/identification of major topics & themes discussed in news articles. </u></b>"
      ]
    },
    {
      "cell_type": "markdown",
      "metadata": {
        "id": "Y06xIdG26kRF"
      },
      "source": [
        "## <b> Problem Description </b>\n",
        "\n",
        "### In this project, your task is to identify major customer segments on a transnational(extending or going beyond national boundaries transnational corporations.) data set which contains all the transactions occurring between 01/12/2010 and 09/12/2011 for a UK-based and registered non-store online retail.The company mainly sells unique all-occasion gifts. Many customers of the company are wholesalers."
      ]
    },
    {
      "cell_type": "markdown",
      "metadata": {
        "id": "KrHvt3L06NiW"
      },
      "source": [
        "**Data Segmentation** is the process of taking the data you hold and dividing it up and grouping similar data together based on the chosen parameters so that you can use it more efficiently within marketing and operations. Examples of Data Segmentation could be:\n",
        "\n",
        "Gender\n",
        "Customers vs. Prospects\n",
        "Industry"
      ]
    },
    {
      "cell_type": "markdown",
      "metadata": {
        "id": "bafATEkG67Xc"
      },
      "source": [
        "![Situation of Wholesalers.jpg](data:image/jpeg;base64,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)"
      ]
    },
    {
      "cell_type": "markdown",
      "metadata": {
        "id": "AlLxAtlziMbP"
      },
      "source": [
        "## <b> Data Description </b>\n",
        "\n",
        "### <b>Attribute Information: </b>\n",
        "\n",
        "* ### InvoiceNo: Invoice number. Nominal, a 6-digit integral number uniquely assigned to each transaction. If this code starts with letter 'c', it indicates a cancellation.\n",
        "* ### StockCode: Product (item) code. Nominal, a 5-digit integral number uniquely assigned to each distinct product.\n",
        "* ### Description: Product (item) name. Nominal.\n",
        "* ### Quantity: The quantities of each product (item) per transaction. Numeric.\n",
        "* ### InvoiceDate: Invice Date and time. Numeric, the day and time when each transaction was generated.\n",
        "* ### UnitPrice: Unit price. Numeric, Product price per unit in sterling.\n",
        "* ### CustomerID: Customer number. Nominal, a 5-digit integral number uniquely assigned to each customer.\n",
        "* ### Country: Country name. Nominal, the name of the country where each customer resides."
      ]
    },
    {
      "cell_type": "code",
      "metadata": {
        "id": "dByMsuzT8Tnw"
      },
      "source": [
        "#Import libraries\n",
        "import pandas as pd\n",
        "import numpy as np\n",
        "import matplotlib.pyplot as plt\n",
        "import seaborn as sns"
      ],
      "execution_count": 1,
      "outputs": []
    },
    {
      "cell_type": "code",
      "metadata": {
        "colab": {
          "base_uri": "https://localhost:8080/"
        },
        "id": "TUBHa8dtcxCw",
        "outputId": "9ae65ff4-b2b0-4805-c91b-809ae312a686"
      },
      "source": [
        "#Mounting Drive\n",
        "from google.colab import drive\n",
        "drive.mount('/content/drive')"
      ],
      "execution_count": 2,
      "outputs": [
        {
          "output_type": "stream",
          "name": "stdout",
          "text": [
            "Mounted at /content/drive\n"
          ]
        }
      ]
    },
    {
      "cell_type": "code",
      "metadata": {
        "id": "Oz7fvWwfcq7D"
      },
      "source": [
        "#Defining path\n",
        "file_path = \"/content/drive/MyDrive/Almabetter/Capstone Projects/Unsupervised Machine Learning/Online Retail.xlsx\"\n",
        "dataset = pd.read_excel(file_path)"
      ],
      "execution_count": 3,
      "outputs": []
    },
    {
      "cell_type": "markdown",
      "metadata": {
        "id": "ND95H08rE4q0"
      },
      "source": [
        "# Data Inspection"
      ]
    },
    {
      "cell_type": "code",
      "metadata": {
        "colab": {
          "base_uri": "https://localhost:8080/",
          "height": 205
        },
        "id": "MBzBNR1pcq4P",
        "outputId": "d91e165a-78ef-4fbf-e183-fb6bab2e74bd"
      },
      "source": [
        "#Take a look\n",
        "dataset.head()"
      ],
      "execution_count": 4,
      "outputs": [
        {
          "output_type": "execute_result",
          "data": {
            "text/html": [
              "<div>\n",
              "<style scoped>\n",
              "    .dataframe tbody tr th:only-of-type {\n",
              "        vertical-align: middle;\n",
              "    }\n",
              "\n",
              "    .dataframe tbody tr th {\n",
              "        vertical-align: top;\n",
              "    }\n",
              "\n",
              "    .dataframe thead th {\n",
              "        text-align: right;\n",
              "    }\n",
              "</style>\n",
              "<table border=\"1\" class=\"dataframe\">\n",
              "  <thead>\n",
              "    <tr style=\"text-align: right;\">\n",
              "      <th></th>\n",
              "      <th>InvoiceNo</th>\n",
              "      <th>StockCode</th>\n",
              "      <th>Description</th>\n",
              "      <th>Quantity</th>\n",
              "      <th>InvoiceDate</th>\n",
              "      <th>UnitPrice</th>\n",
              "      <th>CustomerID</th>\n",
              "      <th>Country</th>\n",
              "    </tr>\n",
              "  </thead>\n",
              "  <tbody>\n",
              "    <tr>\n",
              "      <th>0</th>\n",
              "      <td>536365</td>\n",
              "      <td>85123A</td>\n",
              "      <td>WHITE HANGING HEART T-LIGHT HOLDER</td>\n",
              "      <td>6</td>\n",
              "      <td>2010-12-01 08:26:00</td>\n",
              "      <td>2.55</td>\n",
              "      <td>17850.0</td>\n",
              "      <td>United Kingdom</td>\n",
              "    </tr>\n",
              "    <tr>\n",
              "      <th>1</th>\n",
              "      <td>536365</td>\n",
              "      <td>71053</td>\n",
              "      <td>WHITE METAL LANTERN</td>\n",
              "      <td>6</td>\n",
              "      <td>2010-12-01 08:26:00</td>\n",
              "      <td>3.39</td>\n",
              "      <td>17850.0</td>\n",
              "      <td>United Kingdom</td>\n",
              "    </tr>\n",
              "    <tr>\n",
              "      <th>2</th>\n",
              "      <td>536365</td>\n",
              "      <td>84406B</td>\n",
              "      <td>CREAM CUPID HEARTS COAT HANGER</td>\n",
              "      <td>8</td>\n",
              "      <td>2010-12-01 08:26:00</td>\n",
              "      <td>2.75</td>\n",
              "      <td>17850.0</td>\n",
              "      <td>United Kingdom</td>\n",
              "    </tr>\n",
              "    <tr>\n",
              "      <th>3</th>\n",
              "      <td>536365</td>\n",
              "      <td>84029G</td>\n",
              "      <td>KNITTED UNION FLAG HOT WATER BOTTLE</td>\n",
              "      <td>6</td>\n",
              "      <td>2010-12-01 08:26:00</td>\n",
              "      <td>3.39</td>\n",
              "      <td>17850.0</td>\n",
              "      <td>United Kingdom</td>\n",
              "    </tr>\n",
              "    <tr>\n",
              "      <th>4</th>\n",
              "      <td>536365</td>\n",
              "      <td>84029E</td>\n",
              "      <td>RED WOOLLY HOTTIE WHITE HEART.</td>\n",
              "      <td>6</td>\n",
              "      <td>2010-12-01 08:26:00</td>\n",
              "      <td>3.39</td>\n",
              "      <td>17850.0</td>\n",
              "      <td>United Kingdom</td>\n",
              "    </tr>\n",
              "  </tbody>\n",
              "</table>\n",
              "</div>"
            ],
            "text/plain": [
              "  InvoiceNo StockCode  ... CustomerID         Country\n",
              "0    536365    85123A  ...    17850.0  United Kingdom\n",
              "1    536365     71053  ...    17850.0  United Kingdom\n",
              "2    536365    84406B  ...    17850.0  United Kingdom\n",
              "3    536365    84029G  ...    17850.0  United Kingdom\n",
              "4    536365    84029E  ...    17850.0  United Kingdom\n",
              "\n",
              "[5 rows x 8 columns]"
            ]
          },
          "metadata": {},
          "execution_count": 4
        }
      ]
    },
    {
      "cell_type": "code",
      "metadata": {
        "id": "pytN3QRMcqy3",
        "colab": {
          "base_uri": "https://localhost:8080/"
        },
        "outputId": "ed8eab70-3d2b-41e6-99f7-e0e02b57b801"
      },
      "source": [
        "dataset.shape"
      ],
      "execution_count": 5,
      "outputs": [
        {
          "output_type": "execute_result",
          "data": {
            "text/plain": [
              "(541909, 8)"
            ]
          },
          "metadata": {},
          "execution_count": 5
        }
      ]
    },
    {
      "cell_type": "markdown",
      "metadata": {
        "id": "ln-APLgC9lzJ"
      },
      "source": [
        "We hae 541909 customer's records and 8 features."
      ]
    },
    {
      "cell_type": "code",
      "metadata": {
        "id": "fPLeNPJLcqwa",
        "colab": {
          "base_uri": "https://localhost:8080/",
          "height": 428
        },
        "outputId": "83669d4a-4966-4587-8f86-011315df89ac"
      },
      "source": [
        "# dat description for the info\n",
        "dataset.describe(include='all',datetime_is_numeric=True)"
      ],
      "execution_count": 6,
      "outputs": [
        {
          "output_type": "execute_result",
          "data": {
            "text/html": [
              "<div>\n",
              "<style scoped>\n",
              "    .dataframe tbody tr th:only-of-type {\n",
              "        vertical-align: middle;\n",
              "    }\n",
              "\n",
              "    .dataframe tbody tr th {\n",
              "        vertical-align: top;\n",
              "    }\n",
              "\n",
              "    .dataframe thead th {\n",
              "        text-align: right;\n",
              "    }\n",
              "</style>\n",
              "<table border=\"1\" class=\"dataframe\">\n",
              "  <thead>\n",
              "    <tr style=\"text-align: right;\">\n",
              "      <th></th>\n",
              "      <th>InvoiceNo</th>\n",
              "      <th>StockCode</th>\n",
              "      <th>Description</th>\n",
              "      <th>Quantity</th>\n",
              "      <th>InvoiceDate</th>\n",
              "      <th>UnitPrice</th>\n",
              "      <th>CustomerID</th>\n",
              "      <th>Country</th>\n",
              "    </tr>\n",
              "  </thead>\n",
              "  <tbody>\n",
              "    <tr>\n",
              "      <th>count</th>\n",
              "      <td>541909.0</td>\n",
              "      <td>541909</td>\n",
              "      <td>540455</td>\n",
              "      <td>541909.000000</td>\n",
              "      <td>541909</td>\n",
              "      <td>541909.000000</td>\n",
              "      <td>406829.000000</td>\n",
              "      <td>541909</td>\n",
              "    </tr>\n",
              "    <tr>\n",
              "      <th>unique</th>\n",
              "      <td>25900.0</td>\n",
              "      <td>4070</td>\n",
              "      <td>4223</td>\n",
              "      <td>NaN</td>\n",
              "      <td>NaN</td>\n",
              "      <td>NaN</td>\n",
              "      <td>NaN</td>\n",
              "      <td>38</td>\n",
              "    </tr>\n",
              "    <tr>\n",
              "      <th>top</th>\n",
              "      <td>573585.0</td>\n",
              "      <td>85123A</td>\n",
              "      <td>WHITE HANGING HEART T-LIGHT HOLDER</td>\n",
              "      <td>NaN</td>\n",
              "      <td>NaN</td>\n",
              "      <td>NaN</td>\n",
              "      <td>NaN</td>\n",
              "      <td>United Kingdom</td>\n",
              "    </tr>\n",
              "    <tr>\n",
              "      <th>freq</th>\n",
              "      <td>1114.0</td>\n",
              "      <td>2313</td>\n",
              "      <td>2369</td>\n",
              "      <td>NaN</td>\n",
              "      <td>NaN</td>\n",
              "      <td>NaN</td>\n",
              "      <td>NaN</td>\n",
              "      <td>495478</td>\n",
              "    </tr>\n",
              "    <tr>\n",
              "      <th>mean</th>\n",
              "      <td>NaN</td>\n",
              "      <td>NaN</td>\n",
              "      <td>NaN</td>\n",
              "      <td>9.552250</td>\n",
              "      <td>2011-07-04 13:34:57.156151552</td>\n",
              "      <td>4.611114</td>\n",
              "      <td>15287.690570</td>\n",
              "      <td>NaN</td>\n",
              "    </tr>\n",
              "    <tr>\n",
              "      <th>min</th>\n",
              "      <td>NaN</td>\n",
              "      <td>NaN</td>\n",
              "      <td>NaN</td>\n",
              "      <td>-80995.000000</td>\n",
              "      <td>2010-12-01 08:26:00</td>\n",
              "      <td>-11062.060000</td>\n",
              "      <td>12346.000000</td>\n",
              "      <td>NaN</td>\n",
              "    </tr>\n",
              "    <tr>\n",
              "      <th>25%</th>\n",
              "      <td>NaN</td>\n",
              "      <td>NaN</td>\n",
              "      <td>NaN</td>\n",
              "      <td>1.000000</td>\n",
              "      <td>2011-03-28 11:34:00</td>\n",
              "      <td>1.250000</td>\n",
              "      <td>13953.000000</td>\n",
              "      <td>NaN</td>\n",
              "    </tr>\n",
              "    <tr>\n",
              "      <th>50%</th>\n",
              "      <td>NaN</td>\n",
              "      <td>NaN</td>\n",
              "      <td>NaN</td>\n",
              "      <td>3.000000</td>\n",
              "      <td>2011-07-19 17:17:00</td>\n",
              "      <td>2.080000</td>\n",
              "      <td>15152.000000</td>\n",
              "      <td>NaN</td>\n",
              "    </tr>\n",
              "    <tr>\n",
              "      <th>75%</th>\n",
              "      <td>NaN</td>\n",
              "      <td>NaN</td>\n",
              "      <td>NaN</td>\n",
              "      <td>10.000000</td>\n",
              "      <td>2011-10-19 11:27:00</td>\n",
              "      <td>4.130000</td>\n",
              "      <td>16791.000000</td>\n",
              "      <td>NaN</td>\n",
              "    </tr>\n",
              "    <tr>\n",
              "      <th>max</th>\n",
              "      <td>NaN</td>\n",
              "      <td>NaN</td>\n",
              "      <td>NaN</td>\n",
              "      <td>80995.000000</td>\n",
              "      <td>2011-12-09 12:50:00</td>\n",
              "      <td>38970.000000</td>\n",
              "      <td>18287.000000</td>\n",
              "      <td>NaN</td>\n",
              "    </tr>\n",
              "    <tr>\n",
              "      <th>std</th>\n",
              "      <td>NaN</td>\n",
              "      <td>NaN</td>\n",
              "      <td>NaN</td>\n",
              "      <td>218.081158</td>\n",
              "      <td>NaN</td>\n",
              "      <td>96.759853</td>\n",
              "      <td>1713.600303</td>\n",
              "      <td>NaN</td>\n",
              "    </tr>\n",
              "  </tbody>\n",
              "</table>\n",
              "</div>"
            ],
            "text/plain": [
              "        InvoiceNo StockCode  ...     CustomerID         Country\n",
              "count    541909.0    541909  ...  406829.000000          541909\n",
              "unique    25900.0      4070  ...            NaN              38\n",
              "top      573585.0    85123A  ...            NaN  United Kingdom\n",
              "freq       1114.0      2313  ...            NaN          495478\n",
              "mean          NaN       NaN  ...   15287.690570             NaN\n",
              "min           NaN       NaN  ...   12346.000000             NaN\n",
              "25%           NaN       NaN  ...   13953.000000             NaN\n",
              "50%           NaN       NaN  ...   15152.000000             NaN\n",
              "75%           NaN       NaN  ...   16791.000000             NaN\n",
              "max           NaN       NaN  ...   18287.000000             NaN\n",
              "std           NaN       NaN  ...    1713.600303             NaN\n",
              "\n",
              "[11 rows x 8 columns]"
            ]
          },
          "metadata": {},
          "execution_count": 6
        }
      ]
    },
    {
      "cell_type": "markdown",
      "metadata": {
        "id": "T9FDeXvs4tAg"
      },
      "source": [
        "### Compairing mean and median we found that there can outliers in the dataset."
      ]
    },
    {
      "cell_type": "code",
      "metadata": {
        "id": "aopUvNELE2aw",
        "colab": {
          "base_uri": "https://localhost:8080/"
        },
        "outputId": "3371158e-c2c4-4c24-fed0-bdb43299ebe1"
      },
      "source": [
        "dataset.info()"
      ],
      "execution_count": 7,
      "outputs": [
        {
          "output_type": "stream",
          "name": "stdout",
          "text": [
            "<class 'pandas.core.frame.DataFrame'>\n",
            "RangeIndex: 541909 entries, 0 to 541908\n",
            "Data columns (total 8 columns):\n",
            " #   Column       Non-Null Count   Dtype         \n",
            "---  ------       --------------   -----         \n",
            " 0   InvoiceNo    541909 non-null  object        \n",
            " 1   StockCode    541909 non-null  object        \n",
            " 2   Description  540455 non-null  object        \n",
            " 3   Quantity     541909 non-null  int64         \n",
            " 4   InvoiceDate  541909 non-null  datetime64[ns]\n",
            " 5   UnitPrice    541909 non-null  float64       \n",
            " 6   CustomerID   406829 non-null  float64       \n",
            " 7   Country      541909 non-null  object        \n",
            "dtypes: datetime64[ns](1), float64(2), int64(1), object(4)\n",
            "memory usage: 33.1+ MB\n"
          ]
        }
      ]
    },
    {
      "cell_type": "code",
      "metadata": {
        "colab": {
          "base_uri": "https://localhost:8080/"
        },
        "id": "VTxjebX2mC5L",
        "outputId": "7346449f-bdab-4ecb-9e99-d984418a3c90"
      },
      "source": [
        "dataset['CustomerID'].isnull().sum()"
      ],
      "execution_count": 8,
      "outputs": [
        {
          "output_type": "execute_result",
          "data": {
            "text/plain": [
              "135080"
            ]
          },
          "metadata": {},
          "execution_count": 8
        }
      ]
    },
    {
      "cell_type": "code",
      "metadata": {
        "colab": {
          "base_uri": "https://localhost:8080/"
        },
        "id": "-q6maOg6zChL",
        "outputId": "2a806eee-9452-41b0-c9c4-75cdcc15b8b9"
      },
      "source": [
        "dataset['Description'].isnull().sum()"
      ],
      "execution_count": 9,
      "outputs": [
        {
          "output_type": "execute_result",
          "data": {
            "text/plain": [
              "1454"
            ]
          },
          "metadata": {},
          "execution_count": 9
        }
      ]
    },
    {
      "cell_type": "markdown",
      "metadata": {
        "id": "MGej92aMxYPa"
      },
      "source": [
        "# **DataSet Information**"
      ]
    },
    {
      "cell_type": "code",
      "metadata": {
        "id": "SCb1N2ANHA5F"
      },
      "source": [
        "# Extracting information from Invoice feature.\n",
        "dataset['InvoiceDate_year'] = dataset['InvoiceDate'].dt.year\n",
        "dataset['InvoiceDate_month'] = dataset['InvoiceDate'].dt.month\n",
        "dataset['InvoiceDate_day'] = dataset['InvoiceDate'].dt.day\n",
        "dataset['InvoiceDate_hour'] = dataset['InvoiceDate'].dt.hour\n",
        "dataset['InvoiceDate_minute'] = dataset['InvoiceDate'].dt.minute\n",
        "dataset['InvoiceDate_second'] = dataset['InvoiceDate'].dt.second\n"
      ],
      "execution_count": 10,
      "outputs": []
    },
    {
      "cell_type": "code",
      "metadata": {
        "colab": {
          "base_uri": "https://localhost:8080/",
          "height": 504
        },
        "id": "Hx1oZoO5tQXQ",
        "outputId": "7adf4b48-da56-40a2-b688-bd133197ea64"
      },
      "source": [
        "print(\"Columns and data types\")\n",
        "pd.DataFrame(dataset.dtypes).rename(columns = {0:'dtype'})"
      ],
      "execution_count": 11,
      "outputs": [
        {
          "output_type": "stream",
          "name": "stdout",
          "text": [
            "Columns and data types\n"
          ]
        },
        {
          "output_type": "execute_result",
          "data": {
            "text/html": [
              "<div>\n",
              "<style scoped>\n",
              "    .dataframe tbody tr th:only-of-type {\n",
              "        vertical-align: middle;\n",
              "    }\n",
              "\n",
              "    .dataframe tbody tr th {\n",
              "        vertical-align: top;\n",
              "    }\n",
              "\n",
              "    .dataframe thead th {\n",
              "        text-align: right;\n",
              "    }\n",
              "</style>\n",
              "<table border=\"1\" class=\"dataframe\">\n",
              "  <thead>\n",
              "    <tr style=\"text-align: right;\">\n",
              "      <th></th>\n",
              "      <th>dtype</th>\n",
              "    </tr>\n",
              "  </thead>\n",
              "  <tbody>\n",
              "    <tr>\n",
              "      <th>InvoiceNo</th>\n",
              "      <td>object</td>\n",
              "    </tr>\n",
              "    <tr>\n",
              "      <th>StockCode</th>\n",
              "      <td>object</td>\n",
              "    </tr>\n",
              "    <tr>\n",
              "      <th>Description</th>\n",
              "      <td>object</td>\n",
              "    </tr>\n",
              "    <tr>\n",
              "      <th>Quantity</th>\n",
              "      <td>int64</td>\n",
              "    </tr>\n",
              "    <tr>\n",
              "      <th>InvoiceDate</th>\n",
              "      <td>datetime64[ns]</td>\n",
              "    </tr>\n",
              "    <tr>\n",
              "      <th>UnitPrice</th>\n",
              "      <td>float64</td>\n",
              "    </tr>\n",
              "    <tr>\n",
              "      <th>CustomerID</th>\n",
              "      <td>float64</td>\n",
              "    </tr>\n",
              "    <tr>\n",
              "      <th>Country</th>\n",
              "      <td>object</td>\n",
              "    </tr>\n",
              "    <tr>\n",
              "      <th>InvoiceDate_year</th>\n",
              "      <td>int64</td>\n",
              "    </tr>\n",
              "    <tr>\n",
              "      <th>InvoiceDate_month</th>\n",
              "      <td>int64</td>\n",
              "    </tr>\n",
              "    <tr>\n",
              "      <th>InvoiceDate_day</th>\n",
              "      <td>int64</td>\n",
              "    </tr>\n",
              "    <tr>\n",
              "      <th>InvoiceDate_hour</th>\n",
              "      <td>int64</td>\n",
              "    </tr>\n",
              "    <tr>\n",
              "      <th>InvoiceDate_minute</th>\n",
              "      <td>int64</td>\n",
              "    </tr>\n",
              "    <tr>\n",
              "      <th>InvoiceDate_second</th>\n",
              "      <td>int64</td>\n",
              "    </tr>\n",
              "  </tbody>\n",
              "</table>\n",
              "</div>"
            ],
            "text/plain": [
              "                             dtype\n",
              "InvoiceNo                   object\n",
              "StockCode                   object\n",
              "Description                 object\n",
              "Quantity                     int64\n",
              "InvoiceDate         datetime64[ns]\n",
              "UnitPrice                  float64\n",
              "CustomerID                 float64\n",
              "Country                     object\n",
              "InvoiceDate_year             int64\n",
              "InvoiceDate_month            int64\n",
              "InvoiceDate_day              int64\n",
              "InvoiceDate_hour             int64\n",
              "InvoiceDate_minute           int64\n",
              "InvoiceDate_second           int64"
            ]
          },
          "metadata": {},
          "execution_count": 11
        }
      ]
    },
    {
      "cell_type": "code",
      "metadata": {
        "colab": {
          "base_uri": "https://localhost:8080/"
        },
        "id": "BwloqU0UsMKm",
        "outputId": "ea3279b7-cf1c-4aa0-f3eb-2531707d781d"
      },
      "source": [
        "dataset.columns"
      ],
      "execution_count": 12,
      "outputs": [
        {
          "output_type": "execute_result",
          "data": {
            "text/plain": [
              "Index(['InvoiceNo', 'StockCode', 'Description', 'Quantity', 'InvoiceDate',\n",
              "       'UnitPrice', 'CustomerID', 'Country', 'InvoiceDate_year',\n",
              "       'InvoiceDate_month', 'InvoiceDate_day', 'InvoiceDate_hour',\n",
              "       'InvoiceDate_minute', 'InvoiceDate_second'],\n",
              "      dtype='object')"
            ]
          },
          "metadata": {},
          "execution_count": 12
        }
      ]
    },
    {
      "cell_type": "code",
      "metadata": {
        "colab": {
          "base_uri": "https://localhost:8080/"
        },
        "id": "Fe0UTqLMfvMI",
        "outputId": "56163317-f45c-4f44-c0bf-fb3b13bf3e7a"
      },
      "source": [
        "dataset.shape"
      ],
      "execution_count": 13,
      "outputs": [
        {
          "output_type": "execute_result",
          "data": {
            "text/plain": [
              "(541909, 14)"
            ]
          },
          "metadata": {},
          "execution_count": 13
        }
      ]
    },
    {
      "cell_type": "markdown",
      "metadata": {
        "id": "dNH-eYjhm7Ma"
      },
      "source": [
        "Now we have total 14 columns."
      ]
    },
    {
      "cell_type": "code",
      "metadata": {
        "colab": {
          "base_uri": "https://localhost:8080/",
          "height": 552
        },
        "id": "a9cfJf4KR-mb",
        "outputId": "d876de4d-7864-41e9-a212-5cc26d428d12"
      },
      "source": [
        "dataset.describe(include='all',datetime_is_numeric=True)"
      ],
      "execution_count": 14,
      "outputs": [
        {
          "output_type": "execute_result",
          "data": {
            "text/html": [
              "<div>\n",
              "<style scoped>\n",
              "    .dataframe tbody tr th:only-of-type {\n",
              "        vertical-align: middle;\n",
              "    }\n",
              "\n",
              "    .dataframe tbody tr th {\n",
              "        vertical-align: top;\n",
              "    }\n",
              "\n",
              "    .dataframe thead th {\n",
              "        text-align: right;\n",
              "    }\n",
              "</style>\n",
              "<table border=\"1\" class=\"dataframe\">\n",
              "  <thead>\n",
              "    <tr style=\"text-align: right;\">\n",
              "      <th></th>\n",
              "      <th>InvoiceNo</th>\n",
              "      <th>StockCode</th>\n",
              "      <th>Description</th>\n",
              "      <th>Quantity</th>\n",
              "      <th>InvoiceDate</th>\n",
              "      <th>UnitPrice</th>\n",
              "      <th>CustomerID</th>\n",
              "      <th>Country</th>\n",
              "      <th>InvoiceDate_year</th>\n",
              "      <th>InvoiceDate_month</th>\n",
              "      <th>InvoiceDate_day</th>\n",
              "      <th>InvoiceDate_hour</th>\n",
              "      <th>InvoiceDate_minute</th>\n",
              "      <th>InvoiceDate_second</th>\n",
              "    </tr>\n",
              "  </thead>\n",
              "  <tbody>\n",
              "    <tr>\n",
              "      <th>count</th>\n",
              "      <td>541909.0</td>\n",
              "      <td>541909</td>\n",
              "      <td>540455</td>\n",
              "      <td>541909.000000</td>\n",
              "      <td>541909</td>\n",
              "      <td>541909.000000</td>\n",
              "      <td>406829.000000</td>\n",
              "      <td>541909</td>\n",
              "      <td>541909.000000</td>\n",
              "      <td>541909.000000</td>\n",
              "      <td>541909.000000</td>\n",
              "      <td>541909.000000</td>\n",
              "      <td>541909.000000</td>\n",
              "      <td>541909.0</td>\n",
              "    </tr>\n",
              "    <tr>\n",
              "      <th>unique</th>\n",
              "      <td>25900.0</td>\n",
              "      <td>4070</td>\n",
              "      <td>4223</td>\n",
              "      <td>NaN</td>\n",
              "      <td>NaN</td>\n",
              "      <td>NaN</td>\n",
              "      <td>NaN</td>\n",
              "      <td>38</td>\n",
              "      <td>NaN</td>\n",
              "      <td>NaN</td>\n",
              "      <td>NaN</td>\n",
              "      <td>NaN</td>\n",
              "      <td>NaN</td>\n",
              "      <td>NaN</td>\n",
              "    </tr>\n",
              "    <tr>\n",
              "      <th>top</th>\n",
              "      <td>573585.0</td>\n",
              "      <td>85123A</td>\n",
              "      <td>WHITE HANGING HEART T-LIGHT HOLDER</td>\n",
              "      <td>NaN</td>\n",
              "      <td>NaN</td>\n",
              "      <td>NaN</td>\n",
              "      <td>NaN</td>\n",
              "      <td>United Kingdom</td>\n",
              "      <td>NaN</td>\n",
              "      <td>NaN</td>\n",
              "      <td>NaN</td>\n",
              "      <td>NaN</td>\n",
              "      <td>NaN</td>\n",
              "      <td>NaN</td>\n",
              "    </tr>\n",
              "    <tr>\n",
              "      <th>freq</th>\n",
              "      <td>1114.0</td>\n",
              "      <td>2313</td>\n",
              "      <td>2369</td>\n",
              "      <td>NaN</td>\n",
              "      <td>NaN</td>\n",
              "      <td>NaN</td>\n",
              "      <td>NaN</td>\n",
              "      <td>495478</td>\n",
              "      <td>NaN</td>\n",
              "      <td>NaN</td>\n",
              "      <td>NaN</td>\n",
              "      <td>NaN</td>\n",
              "      <td>NaN</td>\n",
              "      <td>NaN</td>\n",
              "    </tr>\n",
              "    <tr>\n",
              "      <th>mean</th>\n",
              "      <td>NaN</td>\n",
              "      <td>NaN</td>\n",
              "      <td>NaN</td>\n",
              "      <td>9.552250</td>\n",
              "      <td>2011-07-04 13:34:57.156151552</td>\n",
              "      <td>4.611114</td>\n",
              "      <td>15287.690570</td>\n",
              "      <td>NaN</td>\n",
              "      <td>2010.921609</td>\n",
              "      <td>7.553128</td>\n",
              "      <td>15.023096</td>\n",
              "      <td>13.078729</td>\n",
              "      <td>30.010965</td>\n",
              "      <td>0.0</td>\n",
              "    </tr>\n",
              "    <tr>\n",
              "      <th>min</th>\n",
              "      <td>NaN</td>\n",
              "      <td>NaN</td>\n",
              "      <td>NaN</td>\n",
              "      <td>-80995.000000</td>\n",
              "      <td>2010-12-01 08:26:00</td>\n",
              "      <td>-11062.060000</td>\n",
              "      <td>12346.000000</td>\n",
              "      <td>NaN</td>\n",
              "      <td>2010.000000</td>\n",
              "      <td>1.000000</td>\n",
              "      <td>1.000000</td>\n",
              "      <td>6.000000</td>\n",
              "      <td>0.000000</td>\n",
              "      <td>0.0</td>\n",
              "    </tr>\n",
              "    <tr>\n",
              "      <th>25%</th>\n",
              "      <td>NaN</td>\n",
              "      <td>NaN</td>\n",
              "      <td>NaN</td>\n",
              "      <td>1.000000</td>\n",
              "      <td>2011-03-28 11:34:00</td>\n",
              "      <td>1.250000</td>\n",
              "      <td>13953.000000</td>\n",
              "      <td>NaN</td>\n",
              "      <td>2011.000000</td>\n",
              "      <td>5.000000</td>\n",
              "      <td>7.000000</td>\n",
              "      <td>11.000000</td>\n",
              "      <td>16.000000</td>\n",
              "      <td>0.0</td>\n",
              "    </tr>\n",
              "    <tr>\n",
              "      <th>50%</th>\n",
              "      <td>NaN</td>\n",
              "      <td>NaN</td>\n",
              "      <td>NaN</td>\n",
              "      <td>3.000000</td>\n",
              "      <td>2011-07-19 17:17:00</td>\n",
              "      <td>2.080000</td>\n",
              "      <td>15152.000000</td>\n",
              "      <td>NaN</td>\n",
              "      <td>2011.000000</td>\n",
              "      <td>8.000000</td>\n",
              "      <td>15.000000</td>\n",
              "      <td>13.000000</td>\n",
              "      <td>30.000000</td>\n",
              "      <td>0.0</td>\n",
              "    </tr>\n",
              "    <tr>\n",
              "      <th>75%</th>\n",
              "      <td>NaN</td>\n",
              "      <td>NaN</td>\n",
              "      <td>NaN</td>\n",
              "      <td>10.000000</td>\n",
              "      <td>2011-10-19 11:27:00</td>\n",
              "      <td>4.130000</td>\n",
              "      <td>16791.000000</td>\n",
              "      <td>NaN</td>\n",
              "      <td>2011.000000</td>\n",
              "      <td>11.000000</td>\n",
              "      <td>22.000000</td>\n",
              "      <td>15.000000</td>\n",
              "      <td>44.000000</td>\n",
              "      <td>0.0</td>\n",
              "    </tr>\n",
              "    <tr>\n",
              "      <th>max</th>\n",
              "      <td>NaN</td>\n",
              "      <td>NaN</td>\n",
              "      <td>NaN</td>\n",
              "      <td>80995.000000</td>\n",
              "      <td>2011-12-09 12:50:00</td>\n",
              "      <td>38970.000000</td>\n",
              "      <td>18287.000000</td>\n",
              "      <td>NaN</td>\n",
              "      <td>2011.000000</td>\n",
              "      <td>12.000000</td>\n",
              "      <td>31.000000</td>\n",
              "      <td>20.000000</td>\n",
              "      <td>59.000000</td>\n",
              "      <td>0.0</td>\n",
              "    </tr>\n",
              "    <tr>\n",
              "      <th>std</th>\n",
              "      <td>NaN</td>\n",
              "      <td>NaN</td>\n",
              "      <td>NaN</td>\n",
              "      <td>218.081158</td>\n",
              "      <td>NaN</td>\n",
              "      <td>96.759853</td>\n",
              "      <td>1713.600303</td>\n",
              "      <td>NaN</td>\n",
              "      <td>0.268787</td>\n",
              "      <td>3.509055</td>\n",
              "      <td>8.664063</td>\n",
              "      <td>2.443270</td>\n",
              "      <td>16.968523</td>\n",
              "      <td>0.0</td>\n",
              "    </tr>\n",
              "  </tbody>\n",
              "</table>\n",
              "</div>"
            ],
            "text/plain": [
              "        InvoiceNo StockCode  ... InvoiceDate_minute  InvoiceDate_second\n",
              "count    541909.0    541909  ...      541909.000000            541909.0\n",
              "unique    25900.0      4070  ...                NaN                 NaN\n",
              "top      573585.0    85123A  ...                NaN                 NaN\n",
              "freq       1114.0      2313  ...                NaN                 NaN\n",
              "mean          NaN       NaN  ...          30.010965                 0.0\n",
              "min           NaN       NaN  ...           0.000000                 0.0\n",
              "25%           NaN       NaN  ...          16.000000                 0.0\n",
              "50%           NaN       NaN  ...          30.000000                 0.0\n",
              "75%           NaN       NaN  ...          44.000000                 0.0\n",
              "max           NaN       NaN  ...          59.000000                 0.0\n",
              "std           NaN       NaN  ...          16.968523                 0.0\n",
              "\n",
              "[11 rows x 14 columns]"
            ]
          },
          "metadata": {},
          "execution_count": 14
        }
      ]
    },
    {
      "cell_type": "code",
      "metadata": {
        "colab": {
          "base_uri": "https://localhost:8080/"
        },
        "id": "VUl34cNqsQNa",
        "outputId": "4ff44450-5116-426c-83f7-4ae62066c927"
      },
      "source": [
        "# creating a list of interger and float columns\n",
        "numerical_columns=list(dataset.select_dtypes(['int64','float64']).columns)\n",
        "numerical_features=pd.Index(numerical_columns)\n",
        "numerical_features"
      ],
      "execution_count": 15,
      "outputs": [
        {
          "output_type": "execute_result",
          "data": {
            "text/plain": [
              "Index(['Quantity', 'UnitPrice', 'CustomerID', 'InvoiceDate_year',\n",
              "       'InvoiceDate_month', 'InvoiceDate_day', 'InvoiceDate_hour',\n",
              "       'InvoiceDate_minute', 'InvoiceDate_second'],\n",
              "      dtype='object')"
            ]
          },
          "metadata": {},
          "execution_count": 15
        }
      ]
    },
    {
      "cell_type": "code",
      "metadata": {
        "colab": {
          "base_uri": "https://localhost:8080/"
        },
        "id": "rRbBrNqgsSZO",
        "outputId": "52384d28-0d5d-4cc8-86a3-68ac2d667ed0"
      },
      "source": [
        "# creating a list of categorical columns\n",
        "categorical_columns=list(dataset.select_dtypes(['object']).columns)\n",
        "categorical_features=pd.Index(categorical_columns)\n",
        "categorical_features"
      ],
      "execution_count": 16,
      "outputs": [
        {
          "output_type": "execute_result",
          "data": {
            "text/plain": [
              "Index(['InvoiceNo', 'StockCode', 'Description', 'Country'], dtype='object')"
            ]
          },
          "metadata": {},
          "execution_count": 16
        }
      ]
    },
    {
      "cell_type": "markdown",
      "metadata": {
        "id": "F0vyVS7OnclV"
      },
      "source": [
        "We have 4 categorical columns."
      ]
    },
    {
      "cell_type": "code",
      "metadata": {
        "colab": {
          "base_uri": "https://localhost:8080/"
        },
        "id": "1SfADu7VsV9h",
        "outputId": "4db300c2-2ca7-4b50-cfdb-e5a0551b8dea"
      },
      "source": [
        "# find unique values in categorical columns\n",
        "def unique_name_no(col):\n",
        "  print(dataset[col].unique())\n",
        "  print(dataset[col].nunique())\n",
        "\n",
        "\n",
        "for i in categorical_columns:\n",
        "  print(i.upper())\n",
        "  unique_name_no(i)"
      ],
      "execution_count": 17,
      "outputs": [
        {
          "output_type": "stream",
          "name": "stdout",
          "text": [
            "INVOICENO\n",
            "[536365 536366 536367 ... 581585 581586 581587]\n",
            "25900\n",
            "STOCKCODE\n",
            "['85123A' 71053 '84406B' ... '90214U' '47591b' 23843]\n",
            "4070\n",
            "DESCRIPTION\n",
            "['WHITE HANGING HEART T-LIGHT HOLDER' 'WHITE METAL LANTERN'\n",
            " 'CREAM CUPID HEARTS COAT HANGER' ... 'lost'\n",
            " 'CREAM HANGING HEART T-LIGHT HOLDER' 'PAPER CRAFT , LITTLE BIRDIE']\n",
            "4223\n",
            "COUNTRY\n",
            "['United Kingdom' 'France' 'Australia' 'Netherlands' 'Germany' 'Norway'\n",
            " 'EIRE' 'Switzerland' 'Spain' 'Poland' 'Portugal' 'Italy' 'Belgium'\n",
            " 'Lithuania' 'Japan' 'Iceland' 'Channel Islands' 'Denmark' 'Cyprus'\n",
            " 'Sweden' 'Austria' 'Israel' 'Finland' 'Bahrain' 'Greece' 'Hong Kong'\n",
            " 'Singapore' 'Lebanon' 'United Arab Emirates' 'Saudi Arabia'\n",
            " 'Czech Republic' 'Canada' 'Unspecified' 'Brazil' 'USA'\n",
            " 'European Community' 'Malta' 'RSA']\n",
            "38\n"
          ]
        }
      ]
    },
    {
      "cell_type": "code",
      "metadata": {
        "colab": {
          "base_uri": "https://localhost:8080/"
        },
        "id": "PdAaZDJx6mdC",
        "outputId": "4a190197-0f4c-4481-b4f6-d8e6f2e9a982"
      },
      "source": [
        "# duplicate records\n",
        "len(dataset[dataset.duplicated()])"
      ],
      "execution_count": 18,
      "outputs": [
        {
          "output_type": "execute_result",
          "data": {
            "text/plain": [
              "5268"
            ]
          },
          "metadata": {},
          "execution_count": 18
        }
      ]
    },
    {
      "cell_type": "code",
      "metadata": {
        "colab": {
          "base_uri": "https://localhost:8080/",
          "height": 926
        },
        "id": "ryIZkjTLseIW",
        "outputId": "7c32c7fc-6c38-4c87-c7e4-fe8edd131661"
      },
      "source": [
        "#Lets see duplicate records\n",
        "dataset[dataset.duplicated()]"
      ],
      "execution_count": 19,
      "outputs": [
        {
          "output_type": "execute_result",
          "data": {
            "text/html": [
              "<div>\n",
              "<style scoped>\n",
              "    .dataframe tbody tr th:only-of-type {\n",
              "        vertical-align: middle;\n",
              "    }\n",
              "\n",
              "    .dataframe tbody tr th {\n",
              "        vertical-align: top;\n",
              "    }\n",
              "\n",
              "    .dataframe thead th {\n",
              "        text-align: right;\n",
              "    }\n",
              "</style>\n",
              "<table border=\"1\" class=\"dataframe\">\n",
              "  <thead>\n",
              "    <tr style=\"text-align: right;\">\n",
              "      <th></th>\n",
              "      <th>InvoiceNo</th>\n",
              "      <th>StockCode</th>\n",
              "      <th>Description</th>\n",
              "      <th>Quantity</th>\n",
              "      <th>InvoiceDate</th>\n",
              "      <th>UnitPrice</th>\n",
              "      <th>CustomerID</th>\n",
              "      <th>Country</th>\n",
              "      <th>InvoiceDate_year</th>\n",
              "      <th>InvoiceDate_month</th>\n",
              "      <th>InvoiceDate_day</th>\n",
              "      <th>InvoiceDate_hour</th>\n",
              "      <th>InvoiceDate_minute</th>\n",
              "      <th>InvoiceDate_second</th>\n",
              "    </tr>\n",
              "  </thead>\n",
              "  <tbody>\n",
              "    <tr>\n",
              "      <th>517</th>\n",
              "      <td>536409</td>\n",
              "      <td>21866</td>\n",
              "      <td>UNION JACK FLAG LUGGAGE TAG</td>\n",
              "      <td>1</td>\n",
              "      <td>2010-12-01 11:45:00</td>\n",
              "      <td>1.25</td>\n",
              "      <td>17908.0</td>\n",
              "      <td>United Kingdom</td>\n",
              "      <td>2010</td>\n",
              "      <td>12</td>\n",
              "      <td>1</td>\n",
              "      <td>11</td>\n",
              "      <td>45</td>\n",
              "      <td>0</td>\n",
              "    </tr>\n",
              "    <tr>\n",
              "      <th>527</th>\n",
              "      <td>536409</td>\n",
              "      <td>22866</td>\n",
              "      <td>HAND WARMER SCOTTY DOG DESIGN</td>\n",
              "      <td>1</td>\n",
              "      <td>2010-12-01 11:45:00</td>\n",
              "      <td>2.10</td>\n",
              "      <td>17908.0</td>\n",
              "      <td>United Kingdom</td>\n",
              "      <td>2010</td>\n",
              "      <td>12</td>\n",
              "      <td>1</td>\n",
              "      <td>11</td>\n",
              "      <td>45</td>\n",
              "      <td>0</td>\n",
              "    </tr>\n",
              "    <tr>\n",
              "      <th>537</th>\n",
              "      <td>536409</td>\n",
              "      <td>22900</td>\n",
              "      <td>SET 2 TEA TOWELS I LOVE LONDON</td>\n",
              "      <td>1</td>\n",
              "      <td>2010-12-01 11:45:00</td>\n",
              "      <td>2.95</td>\n",
              "      <td>17908.0</td>\n",
              "      <td>United Kingdom</td>\n",
              "      <td>2010</td>\n",
              "      <td>12</td>\n",
              "      <td>1</td>\n",
              "      <td>11</td>\n",
              "      <td>45</td>\n",
              "      <td>0</td>\n",
              "    </tr>\n",
              "    <tr>\n",
              "      <th>539</th>\n",
              "      <td>536409</td>\n",
              "      <td>22111</td>\n",
              "      <td>SCOTTIE DOG HOT WATER BOTTLE</td>\n",
              "      <td>1</td>\n",
              "      <td>2010-12-01 11:45:00</td>\n",
              "      <td>4.95</td>\n",
              "      <td>17908.0</td>\n",
              "      <td>United Kingdom</td>\n",
              "      <td>2010</td>\n",
              "      <td>12</td>\n",
              "      <td>1</td>\n",
              "      <td>11</td>\n",
              "      <td>45</td>\n",
              "      <td>0</td>\n",
              "    </tr>\n",
              "    <tr>\n",
              "      <th>555</th>\n",
              "      <td>536412</td>\n",
              "      <td>22327</td>\n",
              "      <td>ROUND SNACK BOXES SET OF 4 SKULLS</td>\n",
              "      <td>1</td>\n",
              "      <td>2010-12-01 11:49:00</td>\n",
              "      <td>2.95</td>\n",
              "      <td>17920.0</td>\n",
              "      <td>United Kingdom</td>\n",
              "      <td>2010</td>\n",
              "      <td>12</td>\n",
              "      <td>1</td>\n",
              "      <td>11</td>\n",
              "      <td>49</td>\n",
              "      <td>0</td>\n",
              "    </tr>\n",
              "    <tr>\n",
              "      <th>...</th>\n",
              "      <td>...</td>\n",
              "      <td>...</td>\n",
              "      <td>...</td>\n",
              "      <td>...</td>\n",
              "      <td>...</td>\n",
              "      <td>...</td>\n",
              "      <td>...</td>\n",
              "      <td>...</td>\n",
              "      <td>...</td>\n",
              "      <td>...</td>\n",
              "      <td>...</td>\n",
              "      <td>...</td>\n",
              "      <td>...</td>\n",
              "      <td>...</td>\n",
              "    </tr>\n",
              "    <tr>\n",
              "      <th>541675</th>\n",
              "      <td>581538</td>\n",
              "      <td>22068</td>\n",
              "      <td>BLACK PIRATE TREASURE CHEST</td>\n",
              "      <td>1</td>\n",
              "      <td>2011-12-09 11:34:00</td>\n",
              "      <td>0.39</td>\n",
              "      <td>14446.0</td>\n",
              "      <td>United Kingdom</td>\n",
              "      <td>2011</td>\n",
              "      <td>12</td>\n",
              "      <td>9</td>\n",
              "      <td>11</td>\n",
              "      <td>34</td>\n",
              "      <td>0</td>\n",
              "    </tr>\n",
              "    <tr>\n",
              "      <th>541689</th>\n",
              "      <td>581538</td>\n",
              "      <td>23318</td>\n",
              "      <td>BOX OF 6 MINI VINTAGE CRACKERS</td>\n",
              "      <td>1</td>\n",
              "      <td>2011-12-09 11:34:00</td>\n",
              "      <td>2.49</td>\n",
              "      <td>14446.0</td>\n",
              "      <td>United Kingdom</td>\n",
              "      <td>2011</td>\n",
              "      <td>12</td>\n",
              "      <td>9</td>\n",
              "      <td>11</td>\n",
              "      <td>34</td>\n",
              "      <td>0</td>\n",
              "    </tr>\n",
              "    <tr>\n",
              "      <th>541692</th>\n",
              "      <td>581538</td>\n",
              "      <td>22992</td>\n",
              "      <td>REVOLVER WOODEN RULER</td>\n",
              "      <td>1</td>\n",
              "      <td>2011-12-09 11:34:00</td>\n",
              "      <td>1.95</td>\n",
              "      <td>14446.0</td>\n",
              "      <td>United Kingdom</td>\n",
              "      <td>2011</td>\n",
              "      <td>12</td>\n",
              "      <td>9</td>\n",
              "      <td>11</td>\n",
              "      <td>34</td>\n",
              "      <td>0</td>\n",
              "    </tr>\n",
              "    <tr>\n",
              "      <th>541699</th>\n",
              "      <td>581538</td>\n",
              "      <td>22694</td>\n",
              "      <td>WICKER STAR</td>\n",
              "      <td>1</td>\n",
              "      <td>2011-12-09 11:34:00</td>\n",
              "      <td>2.10</td>\n",
              "      <td>14446.0</td>\n",
              "      <td>United Kingdom</td>\n",
              "      <td>2011</td>\n",
              "      <td>12</td>\n",
              "      <td>9</td>\n",
              "      <td>11</td>\n",
              "      <td>34</td>\n",
              "      <td>0</td>\n",
              "    </tr>\n",
              "    <tr>\n",
              "      <th>541701</th>\n",
              "      <td>581538</td>\n",
              "      <td>23343</td>\n",
              "      <td>JUMBO BAG VINTAGE CHRISTMAS</td>\n",
              "      <td>1</td>\n",
              "      <td>2011-12-09 11:34:00</td>\n",
              "      <td>2.08</td>\n",
              "      <td>14446.0</td>\n",
              "      <td>United Kingdom</td>\n",
              "      <td>2011</td>\n",
              "      <td>12</td>\n",
              "      <td>9</td>\n",
              "      <td>11</td>\n",
              "      <td>34</td>\n",
              "      <td>0</td>\n",
              "    </tr>\n",
              "  </tbody>\n",
              "</table>\n",
              "<p>5268 rows × 14 columns</p>\n",
              "</div>"
            ],
            "text/plain": [
              "       InvoiceNo StockCode  ... InvoiceDate_minute  InvoiceDate_second\n",
              "517       536409     21866  ...                 45                   0\n",
              "527       536409     22866  ...                 45                   0\n",
              "537       536409     22900  ...                 45                   0\n",
              "539       536409     22111  ...                 45                   0\n",
              "555       536412     22327  ...                 49                   0\n",
              "...          ...       ...  ...                ...                 ...\n",
              "541675    581538     22068  ...                 34                   0\n",
              "541689    581538     23318  ...                 34                   0\n",
              "541692    581538     22992  ...                 34                   0\n",
              "541699    581538     22694  ...                 34                   0\n",
              "541701    581538     23343  ...                 34                   0\n",
              "\n",
              "[5268 rows x 14 columns]"
            ]
          },
          "metadata": {},
          "execution_count": 19
        }
      ]
    },
    {
      "cell_type": "code",
      "metadata": {
        "colab": {
          "base_uri": "https://localhost:8080/"
        },
        "id": "YNYlWbxgstsw",
        "outputId": "4c38223a-933d-4c4d-af8b-40882db32a4d"
      },
      "source": [
        "# Dropping Duplicate Rows\n",
        "dataset=dataset.drop_duplicates()\n",
        "len(dataset[dataset.duplicated()])"
      ],
      "execution_count": 20,
      "outputs": [
        {
          "output_type": "execute_result",
          "data": {
            "text/plain": [
              "0"
            ]
          },
          "metadata": {},
          "execution_count": 20
        }
      ]
    },
    {
      "cell_type": "code",
      "metadata": {
        "colab": {
          "base_uri": "https://localhost:8080/"
        },
        "id": "dIu771MAsyzc",
        "outputId": "3f10237f-a40b-4aef-d51c-a8c41c97110e"
      },
      "source": [
        "dataset.shape"
      ],
      "execution_count": 21,
      "outputs": [
        {
          "output_type": "execute_result",
          "data": {
            "text/plain": [
              "(536641, 14)"
            ]
          },
          "metadata": {},
          "execution_count": 21
        }
      ]
    },
    {
      "cell_type": "code",
      "metadata": {
        "colab": {
          "base_uri": "https://localhost:8080/"
        },
        "id": "aNXBxAEaCRJE",
        "outputId": "5d0c7a84-8546-423b-e5f0-be295b69b58f"
      },
      "source": [
        "dataset.isnull().sum()"
      ],
      "execution_count": 22,
      "outputs": [
        {
          "output_type": "execute_result",
          "data": {
            "text/plain": [
              "InvoiceNo                  0\n",
              "StockCode                  0\n",
              "Description             1454\n",
              "Quantity                   0\n",
              "InvoiceDate                0\n",
              "UnitPrice                  0\n",
              "CustomerID            135037\n",
              "Country                    0\n",
              "InvoiceDate_year           0\n",
              "InvoiceDate_month          0\n",
              "InvoiceDate_day            0\n",
              "InvoiceDate_hour           0\n",
              "InvoiceDate_minute         0\n",
              "InvoiceDate_second         0\n",
              "dtype: int64"
            ]
          },
          "metadata": {},
          "execution_count": 22
        }
      ]
    },
    {
      "cell_type": "markdown",
      "metadata": {
        "id": "SrEVUuXNF6LS"
      },
      "source": [
        "There are 541909 rows and 8 columns.\n",
        "\n",
        "There are missing value on 'Description' & 'CustomerID'.\n",
        "\n",
        "Dataset has 5268 duplicate value.\n"
      ]
    },
    {
      "cell_type": "markdown",
      "metadata": {
        "id": "mjNKHmmMzq6S"
      },
      "source": [
        "# **Handling Missing Value**"
      ]
    },
    {
      "cell_type": "markdown",
      "metadata": {
        "id": "Tiz6bWfE0ONN"
      },
      "source": [
        "**Handle Category Imputation**\n",
        "\n",
        "**Frequent Category Imputation**"
      ]
    },
    {
      "cell_type": "code",
      "metadata": {
        "id": "SVz7Ojl-zw4i"
      },
      "source": [
        "def impute_nan(df,variable):\n",
        "  most_frequent_category=df[variable].mode()[0]\n",
        "  df[variable].fillna(most_frequent_category,inplace=True)"
      ],
      "execution_count": 23,
      "outputs": []
    },
    {
      "cell_type": "code",
      "metadata": {
        "id": "4pCzODZR0_vi"
      },
      "source": [
        "impute_nan(dataset,\"Description\")"
      ],
      "execution_count": 24,
      "outputs": []
    },
    {
      "cell_type": "markdown",
      "metadata": {
        "id": "JiAOqpM61aVb"
      },
      "source": [
        "**Handle Numerical Imputation**\n",
        "\n",
        "**Random Sample Imputation (MCAR)**"
      ]
    },
    {
      "cell_type": "code",
      "metadata": {
        "id": "bbRmn8lW1nmI"
      },
      "source": [
        "def impute_nan_numeric(df,variable):\n",
        "  df[variable+'_random']=df[variable]\n",
        "  random_sample=df[variable].dropna().sample(df[variable].isnull().sum(),random_state=0)\n",
        "  random_sample.index= df[df[variable].isnull()].index\n",
        "  df.loc[df[variable].isnull(),variable+'_random']=random_sample"
      ],
      "execution_count": 25,
      "outputs": []
    },
    {
      "cell_type": "code",
      "metadata": {
        "id": "RZi9IjXS2mjZ"
      },
      "source": [
        "impute_nan_numeric(dataset,'CustomerID')\n",
        "dataset.drop(['CustomerID'],axis=1,inplace=True)"
      ],
      "execution_count": 26,
      "outputs": []
    },
    {
      "cell_type": "code",
      "metadata": {
        "colab": {
          "base_uri": "https://localhost:8080/"
        },
        "id": "80RvIabh1WcR",
        "outputId": "5b81a6a9-9842-4dc6-c1ce-9e677bd03a58"
      },
      "source": [
        "dataset.isnull().sum()"
      ],
      "execution_count": 27,
      "outputs": [
        {
          "output_type": "execute_result",
          "data": {
            "text/plain": [
              "InvoiceNo             0\n",
              "StockCode             0\n",
              "Description           0\n",
              "Quantity              0\n",
              "InvoiceDate           0\n",
              "UnitPrice             0\n",
              "Country               0\n",
              "InvoiceDate_year      0\n",
              "InvoiceDate_month     0\n",
              "InvoiceDate_day       0\n",
              "InvoiceDate_hour      0\n",
              "InvoiceDate_minute    0\n",
              "InvoiceDate_second    0\n",
              "CustomerID_random     0\n",
              "dtype: int64"
            ]
          },
          "metadata": {},
          "execution_count": 27
        }
      ]
    },
    {
      "cell_type": "code",
      "metadata": {
        "colab": {
          "base_uri": "https://localhost:8080/",
          "height": 536
        },
        "id": "AtuwTp0T3Y4C",
        "outputId": "c63cf980-176a-494b-b8bc-023db95c6192"
      },
      "source": [
        "dataset.head()"
      ],
      "execution_count": 28,
      "outputs": [
        {
          "output_type": "execute_result",
          "data": {
            "text/html": [
              "<div>\n",
              "<style scoped>\n",
              "    .dataframe tbody tr th:only-of-type {\n",
              "        vertical-align: middle;\n",
              "    }\n",
              "\n",
              "    .dataframe tbody tr th {\n",
              "        vertical-align: top;\n",
              "    }\n",
              "\n",
              "    .dataframe thead th {\n",
              "        text-align: right;\n",
              "    }\n",
              "</style>\n",
              "<table border=\"1\" class=\"dataframe\">\n",
              "  <thead>\n",
              "    <tr style=\"text-align: right;\">\n",
              "      <th></th>\n",
              "      <th>InvoiceNo</th>\n",
              "      <th>StockCode</th>\n",
              "      <th>Description</th>\n",
              "      <th>Quantity</th>\n",
              "      <th>InvoiceDate</th>\n",
              "      <th>UnitPrice</th>\n",
              "      <th>Country</th>\n",
              "      <th>InvoiceDate_year</th>\n",
              "      <th>InvoiceDate_month</th>\n",
              "      <th>InvoiceDate_day</th>\n",
              "      <th>InvoiceDate_hour</th>\n",
              "      <th>InvoiceDate_minute</th>\n",
              "      <th>InvoiceDate_second</th>\n",
              "      <th>CustomerID_random</th>\n",
              "    </tr>\n",
              "  </thead>\n",
              "  <tbody>\n",
              "    <tr>\n",
              "      <th>0</th>\n",
              "      <td>536365</td>\n",
              "      <td>85123A</td>\n",
              "      <td>WHITE HANGING HEART T-LIGHT HOLDER</td>\n",
              "      <td>6</td>\n",
              "      <td>2010-12-01 08:26:00</td>\n",
              "      <td>2.55</td>\n",
              "      <td>United Kingdom</td>\n",
              "      <td>2010</td>\n",
              "      <td>12</td>\n",
              "      <td>1</td>\n",
              "      <td>8</td>\n",
              "      <td>26</td>\n",
              "      <td>0</td>\n",
              "      <td>17850.0</td>\n",
              "    </tr>\n",
              "    <tr>\n",
              "      <th>1</th>\n",
              "      <td>536365</td>\n",
              "      <td>71053</td>\n",
              "      <td>WHITE METAL LANTERN</td>\n",
              "      <td>6</td>\n",
              "      <td>2010-12-01 08:26:00</td>\n",
              "      <td>3.39</td>\n",
              "      <td>United Kingdom</td>\n",
              "      <td>2010</td>\n",
              "      <td>12</td>\n",
              "      <td>1</td>\n",
              "      <td>8</td>\n",
              "      <td>26</td>\n",
              "      <td>0</td>\n",
              "      <td>17850.0</td>\n",
              "    </tr>\n",
              "    <tr>\n",
              "      <th>2</th>\n",
              "      <td>536365</td>\n",
              "      <td>84406B</td>\n",
              "      <td>CREAM CUPID HEARTS COAT HANGER</td>\n",
              "      <td>8</td>\n",
              "      <td>2010-12-01 08:26:00</td>\n",
              "      <td>2.75</td>\n",
              "      <td>United Kingdom</td>\n",
              "      <td>2010</td>\n",
              "      <td>12</td>\n",
              "      <td>1</td>\n",
              "      <td>8</td>\n",
              "      <td>26</td>\n",
              "      <td>0</td>\n",
              "      <td>17850.0</td>\n",
              "    </tr>\n",
              "    <tr>\n",
              "      <th>3</th>\n",
              "      <td>536365</td>\n",
              "      <td>84029G</td>\n",
              "      <td>KNITTED UNION FLAG HOT WATER BOTTLE</td>\n",
              "      <td>6</td>\n",
              "      <td>2010-12-01 08:26:00</td>\n",
              "      <td>3.39</td>\n",
              "      <td>United Kingdom</td>\n",
              "      <td>2010</td>\n",
              "      <td>12</td>\n",
              "      <td>1</td>\n",
              "      <td>8</td>\n",
              "      <td>26</td>\n",
              "      <td>0</td>\n",
              "      <td>17850.0</td>\n",
              "    </tr>\n",
              "    <tr>\n",
              "      <th>4</th>\n",
              "      <td>536365</td>\n",
              "      <td>84029E</td>\n",
              "      <td>RED WOOLLY HOTTIE WHITE HEART.</td>\n",
              "      <td>6</td>\n",
              "      <td>2010-12-01 08:26:00</td>\n",
              "      <td>3.39</td>\n",
              "      <td>United Kingdom</td>\n",
              "      <td>2010</td>\n",
              "      <td>12</td>\n",
              "      <td>1</td>\n",
              "      <td>8</td>\n",
              "      <td>26</td>\n",
              "      <td>0</td>\n",
              "      <td>17850.0</td>\n",
              "    </tr>\n",
              "  </tbody>\n",
              "</table>\n",
              "</div>"
            ],
            "text/plain": [
              "  InvoiceNo StockCode  ... InvoiceDate_second  CustomerID_random\n",
              "0    536365    85123A  ...                  0            17850.0\n",
              "1    536365     71053  ...                  0            17850.0\n",
              "2    536365    84406B  ...                  0            17850.0\n",
              "3    536365    84029G  ...                  0            17850.0\n",
              "4    536365    84029E  ...                  0            17850.0\n",
              "\n",
              "[5 rows x 14 columns]"
            ]
          },
          "metadata": {},
          "execution_count": 28
        }
      ]
    },
    {
      "cell_type": "code",
      "metadata": {
        "colab": {
          "base_uri": "https://localhost:8080/",
          "height": 380
        },
        "id": "pkp--SP_3hxi",
        "outputId": "0d917b03-322d-4554-a3d8-6d778809a148"
      },
      "source": [
        "# Checking Null Value by plotting Heatmap\n",
        "sns.heatmap(dataset.isnull(), cbar=False)"
      ],
      "execution_count": 29,
      "outputs": [
        {
          "output_type": "execute_result",
          "data": {
            "text/plain": [
              "<matplotlib.axes._subplots.AxesSubplot at 0x7f010a027ad0>"
            ]
          },
          "metadata": {},
          "execution_count": 29
        },
        {
          "output_type": "display_data",
          "data": {
            "image/png": "[encoded data removed]",
            "text/plain": [
              "<Figure size 432x288 with 1 Axes>"
            ]
          },
          "metadata": {
            "needs_background": "light"
          }
        }
      ]
    },
    {
      "cell_type": "code",
      "metadata": {
        "colab": {
          "base_uri": "https://localhost:8080/"
        },
        "id": "IQOBsO4A3bK5",
        "outputId": "87bc6f7a-ea7e-4b43-d644-0faf5d0938cb"
      },
      "source": [
        "dataset.shape"
      ],
      "execution_count": 30,
      "outputs": [
        {
          "output_type": "execute_result",
          "data": {
            "text/plain": [
              "(536641, 14)"
            ]
          },
          "metadata": {},
          "execution_count": 30
        }
      ]
    },
    {
      "cell_type": "markdown",
      "metadata": {
        "id": "apQYo-pvo9AJ"
      },
      "source": [
        "No missing or duplicate values now.\n",
        "\n",
        "We have 536641 rows and 14 columns after handling duplicate and missing values."
      ]
    },
    {
      "cell_type": "markdown",
      "metadata": {
        "id": "oiT-aBSHpkQ4"
      },
      "source": [
        "#**Exploratory data analysis**"
      ]
    },
    {
      "cell_type": "code",
      "metadata": {
        "colab": {
          "base_uri": "https://localhost:8080/",
          "height": 556
        },
        "id": "TX3vpQl9qGD9",
        "outputId": "487d0f05-fb83-4d79-97df-e1879a54adcf"
      },
      "source": [
        "unique_df=pd.DataFrame()\n",
        "unique_df['Features']=dataset.columns\n",
        "unique=[]\n",
        "for i in dataset.columns:\n",
        "  unique.append(dataset[i].nunique())\n",
        "unique_df['Uniques']=unique\n",
        "\n",
        "f, ax = plt.subplots(1,1, figsize=(15,7))\n",
        "\n",
        "splot = sns.barplot(x=unique_df['Features'], y=unique_df['Uniques'], alpha=0.8)\n",
        "for p in splot.patches:\n",
        "    splot.annotate(format(p.get_height(), '.0f'), (p.get_x() + p.get_width() / 2., p.get_height()), ha = 'center',\n",
        "                   va = 'center', xytext = (0, 9), textcoords = 'offset points')\n",
        "plt.title('Bar plot for number of unique values in each column',weight='bold', size=15)\n",
        "plt.ylabel('Unique values', size=12, weight='bold')\n",
        "plt.xlabel('Features', size=12, weight='bold')\n",
        "plt.xticks(rotation=90)\n",
        "plt.show()"
      ],
      "execution_count": 31,
      "outputs": [
        {
          "output_type": "display_data",
          "data": {
            "image/png": "[encoded data removed]",
            "text/plain": [
              "<Figure size 1080x504 with 1 Axes>"
            ]
          },
          "metadata": {
            "needs_background": "light"
          }
        }
      ]
    },
    {
      "cell_type": "code",
      "metadata": {
        "colab": {
          "base_uri": "https://localhost:8080/",
          "height": 218
        },
        "id": "VvYP5QxzhFmp",
        "outputId": "d13b0bce-6918-4948-a224-8a82da60f2d0"
      },
      "source": [
        "Description_df=df['Description'].value_counts().reset_index()\n",
        "Description_df.rename(columns={'index': 'Description_Name'}, inplace=True)\n",
        "Description_df.rename(columns={'Description': 'Count'}, inplace=True)\n",
        "Description_df.head()"
      ],
      "execution_count": 32,
      "outputs": [
        {
          "output_type": "error",
          "ename": "NameError",
          "evalue": "ignored",
          "traceback": [
            "\u001b[0;31m---------------------------------------------------------------------------\u001b[0m",
            "\u001b[0;31mNameError\u001b[0m                                 Traceback (most recent call last)",
            "\u001b[0;32m<ipython-input-32-c60914416bb7>\u001b[0m in \u001b[0;36m<module>\u001b[0;34m()\u001b[0m\n\u001b[0;32m----> 1\u001b[0;31m \u001b[0mDescription_df\u001b[0m\u001b[0;34m=\u001b[0m\u001b[0mdf\u001b[0m\u001b[0;34m[\u001b[0m\u001b[0;34m'Description'\u001b[0m\u001b[0;34m]\u001b[0m\u001b[0;34m.\u001b[0m\u001b[0mvalue_counts\u001b[0m\u001b[0;34m(\u001b[0m\u001b[0;34m)\u001b[0m\u001b[0;34m.\u001b[0m\u001b[0mreset_index\u001b[0m\u001b[0;34m(\u001b[0m\u001b[0;34m)\u001b[0m\u001b[0;34m\u001b[0m\u001b[0;34m\u001b[0m\u001b[0m\n\u001b[0m\u001b[1;32m      2\u001b[0m \u001b[0mDescription_df\u001b[0m\u001b[0;34m.\u001b[0m\u001b[0mrename\u001b[0m\u001b[0;34m(\u001b[0m\u001b[0mcolumns\u001b[0m\u001b[0;34m=\u001b[0m\u001b[0;34m{\u001b[0m\u001b[0;34m'index'\u001b[0m\u001b[0;34m:\u001b[0m \u001b[0;34m'Description_Name'\u001b[0m\u001b[0;34m}\u001b[0m\u001b[0;34m,\u001b[0m \u001b[0minplace\u001b[0m\u001b[0;34m=\u001b[0m\u001b[0;32mTrue\u001b[0m\u001b[0;34m)\u001b[0m\u001b[0;34m\u001b[0m\u001b[0;34m\u001b[0m\u001b[0m\n\u001b[1;32m      3\u001b[0m \u001b[0mDescription_df\u001b[0m\u001b[0;34m.\u001b[0m\u001b[0mrename\u001b[0m\u001b[0;34m(\u001b[0m\u001b[0mcolumns\u001b[0m\u001b[0;34m=\u001b[0m\u001b[0;34m{\u001b[0m\u001b[0;34m'Description'\u001b[0m\u001b[0;34m:\u001b[0m \u001b[0;34m'Count'\u001b[0m\u001b[0;34m}\u001b[0m\u001b[0;34m,\u001b[0m \u001b[0minplace\u001b[0m\u001b[0;34m=\u001b[0m\u001b[0;32mTrue\u001b[0m\u001b[0;34m)\u001b[0m\u001b[0;34m\u001b[0m\u001b[0;34m\u001b[0m\u001b[0m\n\u001b[1;32m      4\u001b[0m \u001b[0mDescription_df\u001b[0m\u001b[0;34m.\u001b[0m\u001b[0mhead\u001b[0m\u001b[0;34m(\u001b[0m\u001b[0;34m)\u001b[0m\u001b[0;34m\u001b[0m\u001b[0;34m\u001b[0m\u001b[0m\n",
            "\u001b[0;31mNameError\u001b[0m: name 'df' is not defined"
          ]
        }
      ]
    },
    {
      "cell_type": "code",
      "metadata": {
        "id": "ZtzFjJbLjqPa"
      },
      "source": [
        "Description_df.tail()"
      ],
      "execution_count": null,
      "outputs": []
    },
    {
      "cell_type": "code",
      "metadata": {
        "id": "LifeIl_GjN0Y"
      },
      "source": [
        "plt.figure(figsize=(18,5))\n",
        "plt.title('Top 5 Product Name')\n",
        "sns.barplot(x='Description_Name',y='Count',data=Description_df[:5])"
      ],
      "execution_count": null,
      "outputs": []
    },
    {
      "cell_type": "markdown",
      "metadata": {
        "id": "9WJxUcldM8w6"
      },
      "source": [
        "###**Top product  based on maximum selling  are :**\n",
        "    1.WHITE HANGING HEART T-LIGHT HOLDER,\n",
        "    2.REGENCY CAKESTAND 3 TIER\n",
        "    3.JUMBO BAG RED RETROSPOT\n",
        "    4.PARTY BUNTING\n",
        "    5.LUNCH BAG RED RETROSPOT"
      ]
    },
    {
      "cell_type": "code",
      "metadata": {
        "id": "I8welEZBjhvD"
      },
      "source": [
        "plt.figure(figsize=(18,5))\n",
        "plt.title('Bottom 5 product Name')\n",
        "sns.barplot(x='Description_Name',y='Count',data=Description_df[-5:])"
      ],
      "execution_count": null,
      "outputs": []
    },
    {
      "cell_type": "markdown",
      "metadata": {
        "id": "BPqrYDWlN-k7"
      },
      "source": [
        "###**Bottom 5 Product based on the selling are:**\n",
        "    1.LIGHT DECORATION BATTERY OPERATED\t\n",
        "    2.Water damaged\t\n",
        "    3.throw away\t\n",
        "    4.re dotcom quick fix.\t\n",
        "    5.BIRTHDAY BANNER TAPE\n"
      ]
    },
    {
      "cell_type": "code",
      "metadata": {
        "id": "ZijvnRPQgUuc"
      },
      "source": [
        "StockCode_df=df['StockCode'].value_counts().reset_index()\n",
        "StockCode_df.rename(columns={'index': 'StockCode_Name'}, inplace=True)\n",
        "StockCode_df.rename(columns={'StockCode': 'Count'}, inplace=True)\n",
        "StockCode_df.head()"
      ],
      "execution_count": null,
      "outputs": []
    },
    {
      "cell_type": "code",
      "metadata": {
        "id": "emOdqmt6gU86"
      },
      "source": [
        "StockCode_df.tail()"
      ],
      "execution_count": null,
      "outputs": []
    },
    {
      "cell_type": "code",
      "metadata": {
        "id": "0Miv5kdYgVcV"
      },
      "source": [
        "plt.figure(figsize=(13,5))\n",
        "plt.title('Top 5 Stock Name')\n",
        "sns.barplot(x='StockCode_Name',y='Count',data=StockCode_df[:5])"
      ],
      "execution_count": null,
      "outputs": []
    },
    {
      "cell_type": "markdown",
      "metadata": {
        "id": "nenUTfrwOzx4"
      },
      "source": [
        "###**Top 5 Stock name based on selling are :**\n",
        "    1.85123A\n",
        "    2.22423\n",
        "    3.85099B\t\n",
        "    4.47566\n",
        "    5.20725\n"
      ]
    },
    {
      "cell_type": "code",
      "metadata": {
        "id": "KoxS_GL3jyzl"
      },
      "source": [
        "plt.figure(figsize=(13,5))\n",
        "plt.title('Bottom 5 Stock Name')\n",
        "sns.barplot(x='StockCode_Name',y='Count',data=StockCode_df[-5:])"
      ],
      "execution_count": null,
      "outputs": []
    },
    {
      "cell_type": "code",
      "metadata": {
        "id": "keX13LNHPWa2"
      },
      "source": [
        "country_df=df['Country'].value_counts().reset_index()\n",
        "country_df.rename(columns={'index': 'Country_Name'}, inplace=True)\n",
        "country_df.rename(columns={'Country': 'Count'}, inplace=True)\n",
        "country_df.head()"
      ],
      "execution_count": null,
      "outputs": []
    },
    {
      "cell_type": "code",
      "metadata": {
        "id": "SjNzofF89u0p"
      },
      "source": [
        "country_df.tail()"
      ],
      "execution_count": null,
      "outputs": []
    },
    {
      "cell_type": "code",
      "metadata": {
        "id": "K0VThZU_95zw"
      },
      "source": [
        "plt.figure(figsize=(13,8))\n",
        "plt.title('Top 5 Country based on the Most Numbers Customers')\n",
        "sns.barplot(x='Country_Name',y='Count',data=country_df[:5])"
      ],
      "execution_count": null,
      "outputs": []
    },
    {
      "cell_type": "markdown",
      "metadata": {
        "id": "1Qy62PU7Sdka"
      },
      "source": [
        "###**From this graph we can see that most of the customers are from United Kingdom ,Germany ,France ,EIRE and Spain**"
      ]
    },
    {
      "cell_type": "code",
      "metadata": {
        "id": "TPIew4FL958v"
      },
      "source": [
        "plt.figure(figsize=(13,5))\n",
        "plt.title('Top 5 Country based least Numbers of  Customers')\n",
        "sns.barplot(x='Country_Name',y='Count',data=country_df[-5:])"
      ],
      "execution_count": null,
      "outputs": []
    },
    {
      "cell_type": "markdown",
      "metadata": {
        "id": "wN84ueZ-Sy_W"
      },
      "source": [
        "###**From this graph we can see that least number of customers from Lithuania,Brazil, Czech Republic ,Bahrain  and Saudi Arabia**"
      ]
    },
    {
      "cell_type": "code",
      "metadata": {
        "id": "mAQkVsVIWiAr"
      },
      "source": [
        "df[df['Country']=='Saudi Arabia']"
      ],
      "execution_count": null,
      "outputs": []
    },
    {
      "cell_type": "markdown",
      "metadata": {
        "id": "59-L8QN46LdA"
      },
      "source": [
        "# Univariate and multivariate analysis"
      ]
    },
    {
      "cell_type": "markdown",
      "metadata": {
        "id": "yksYRTCTBYOO"
      },
      "source": [
        "###**1. Positively skewed (or right-skewed) distribution is a type of distribution in which most values are clustered around the left tail of the distribution while the right tail of the distribution is longer.hear mean>median>mode**\n",
        "\n",
        "\n",
        "###**2. Negatively skewed (also known as left-skewed) distribution is a type of distribution in which more values are concentrated on the right side (tail) of the distribution graph while the left tail of the distribution graph is longer.hear mean<median<mode**\n",
        "\n",
        "###**3. For symmetric graph mean=median=mode**"
      ]
    },
    {
      "cell_type": "code",
      "metadata": {
        "id": "fDpX06f496Dr"
      },
      "source": [
        "#distribution of Quantity\n",
        "plt.figure(figsize=(15,10))\n",
        "plt.title('distribution of Quantity')\n",
        "sns.distplot(df['Quantity'],color=\"B\")"
      ],
      "execution_count": null,
      "outputs": []
    },
    {
      "cell_type": "code",
      "metadata": {
        "id": "ybFAEMNG96HN"
      },
      "source": [
        "plt.figure(figsize=(15,10))\n",
        "plt.title('log distribution of Quantity')\n",
        "sns.distplot(np.log(df['Quantity']),color=\"B\")"
      ],
      "execution_count": null,
      "outputs": []
    },
    {
      "cell_type": "markdown",
      "metadata": {
        "id": "bgaipm_IBf7L"
      },
      "source": [
        "log transformation of Quantity"
      ]
    },
    {
      "cell_type": "code",
      "metadata": {
        "id": "yLdEatE8BPKu"
      },
      "source": [
        "df['Quantity'].unique()"
      ],
      "execution_count": null,
      "outputs": []
    },
    {
      "cell_type": "code",
      "metadata": {
        "id": "_xXvo059rKF5"
      },
      "source": [
        "#checking distribution of unit price\n",
        "plt.figure(figsize=(15,10))\n",
        "plt.title('distribution of UnitPrice')\n",
        "sns.distplot(df['UnitPrice'],color=\"B\")"
      ],
      "execution_count": null,
      "outputs": []
    },
    {
      "cell_type": "code",
      "metadata": {
        "id": "w4KDQWNfrQtg"
      },
      "source": [
        "#let's see which records has unit price less than 0\n",
        "df[df['UnitPrice']<0]"
      ],
      "execution_count": null,
      "outputs": []
    },
    {
      "cell_type": "code",
      "metadata": {
        "id": "8g_SUDVFrlQ0"
      },
      "source": [
        "# keeping only positive unit price records\n",
        "df=df[df['UnitPrice']>0]"
      ],
      "execution_count": null,
      "outputs": []
    },
    {
      "cell_type": "code",
      "metadata": {
        "id": "pGtV_h_2EeJX"
      },
      "source": [
        "df.head(5)"
      ],
      "execution_count": null,
      "outputs": []
    },
    {
      "cell_type": "markdown",
      "metadata": {
        "id": "yA9Pzx7Kxv7Z"
      },
      "source": [
        "## **Handling Numeric Features**"
      ]
    },
    {
      "cell_type": "code",
      "metadata": {
        "id": "oEiut7Sj5rui"
      },
      "source": [
        "numerical_columns=list(dataset.select_dtypes(['int64','float64']).columns)\n",
        "numerical_features=pd.Index(numerical_columns)\n",
        "numerical_features\n"
      ],
      "execution_count": null,
      "outputs": []
    },
    {
      "cell_type": "markdown",
      "metadata": {
        "id": "u8QXkc4l0BmH"
      },
      "source": [
        "**Univariate Analysis**"
      ]
    },
    {
      "cell_type": "code",
      "metadata": {
        "id": "VeP5RuCL6c7v"
      },
      "source": [
        "#plot a bar plot for each numerical feature count with Hist Plot (except car_ID)\n",
        "for col in numerical_features:\n",
        "  fig=plt.figure(figsize=(9,6))\n",
        "  ax=fig.gca()\n",
        "  feature= (dataset[col])\n",
        "  feature.hist(bins=50, ax=ax)\n",
        "  ax.axvline(feature.mean(),color='magenta', linestyle='dashed', linewidth=2)\n",
        "  ax.axvline(feature.median(),color='cyan', linestyle='dashed', linewidth=2)\n",
        "  ax.set_title(col)\n",
        "  plt.show()\n",
        "  print( \"Skewness :\",dataset[col].skew())\n",
        "  print( \"Kurtosis :\",dataset[col].kurt())"
      ],
      "execution_count": null,
      "outputs": []
    },
    {
      "cell_type": "code",
      "metadata": {
        "id": "rHFsjPgavvu4"
      },
      "source": [
        "#plot a bar plot for each numerical feature count with Dist Plot (except Car_ID)\n",
        "for col in numerical_features:\n",
        "  fig=plt.figure(figsize=(9,6))\n",
        "  ax=fig.gca()\n",
        "  feature= (dataset[col])\n",
        "  sns.displot(dataset[col])\n",
        "  ax.axvline(feature.mean(),color='magenta', linestyle='dashed', linewidth=2)\n",
        "  ax.axvline(feature.median(),color='cyan', linestyle='dashed', linewidth=2)\n",
        "  ax.set_title(col)\n",
        "  plt.show()\n",
        "  print( \"Skewness :\",dataset[col].skew())\n",
        "  print( \"Kurtosis :\",dataset[col].kurt())"
      ],
      "execution_count": null,
      "outputs": []
    },
    {
      "cell_type": "code",
      "metadata": {
        "id": "xMS6gjm21g8u"
      },
      "source": [
        "for col in numerical_features:\n",
        "  fig=plt.figure(figsize=(9,6))\n",
        "  sns.stripplot(dataset[col])"
      ],
      "execution_count": null,
      "outputs": []
    },
    {
      "cell_type": "code",
      "metadata": {
        "id": "XylTF8Tr0JzX"
      },
      "source": [
        "# plot a boxplot for the label by each numerical feature  \n",
        "\n",
        "for col in numerical_features:\n",
        "    fig = plt.figure(figsize=(9, 6))\n",
        "    ax = fig.gca()\n",
        "    dataset.boxplot(col)\n",
        "    ax.set_title('Label by ' + col)\n",
        "    #ax.set_ylabel(\"Churn\")\n",
        "plt.show()"
      ],
      "execution_count": null,
      "outputs": []
    },
    {
      "cell_type": "code",
      "metadata": {
        "id": "oc2PB4Gf8Q-B"
      },
      "source": [
        "dataset.columns"
      ],
      "execution_count": null,
      "outputs": []
    },
    {
      "cell_type": "code",
      "metadata": {
        "id": "NyXtHlrrFQq4"
      },
      "source": [
        "plt.rcParams['figure.figsize']=(19,6)\n",
        "ax = dataset[['InvoiceNo', 'StockCode', 'Description', 'Quantity', \n",
        "       'UnitPrice', 'Country', 'InvoiceDate_year', 'InvoiceDate_month',\n",
        "       'InvoiceDate_day', 'InvoiceDate_hour', 'InvoiceDate_minute',\n",
        "       'InvoiceDate_second', 'CustomerID_random']].plot(kind='box', title='boxplot', showmeans=True)\n",
        "\n",
        "plt.show()"
      ],
      "execution_count": null,
      "outputs": []
    },
    {
      "cell_type": "code",
      "metadata": {
        "id": "oUhuGOqH2xrv"
      },
      "source": [
        "invb=pd.DataFrame({'year':[2011,2010],'value':[92011,7789]})\n",
        "sns.barplot(y='value',x='year',data=invb)"
      ],
      "execution_count": null,
      "outputs": []
    },
    {
      "cell_type": "markdown",
      "metadata": {
        "id": "evjQJnIG06O3"
      },
      "source": [
        "**Correlation**"
      ]
    },
    {
      "cell_type": "code",
      "metadata": {
        "id": "QgK6TEBqRPRc"
      },
      "source": [
        "## Correlation\n",
        "plt.figure(figsize=(15,8))\n",
        "correlation=dataset.corr()\n",
        "sns.heatmap(abs(correlation), annot=True, cmap='coolwarm')"
      ],
      "execution_count": null,
      "outputs": []
    },
    {
      "cell_type": "code",
      "metadata": {
        "id": "rZNvhPtV7ZCz"
      },
      "source": [
        ""
      ],
      "execution_count": null,
      "outputs": []
    },
    {
      "cell_type": "code",
      "metadata": {
        "id": "hxWThEMecqjG"
      },
      "source": [
        ""
      ],
      "execution_count": null,
      "outputs": []
    },
    {
      "cell_type": "code",
      "metadata": {
        "id": "d-dVtZoXcqgV"
      },
      "source": [
        ""
      ],
      "execution_count": null,
      "outputs": []
    },
    {
      "cell_type": "code",
      "metadata": {
        "id": "WORv2yTTcqd6"
      },
      "source": [
        ""
      ],
      "execution_count": null,
      "outputs": []
    },
    {
      "cell_type": "code",
      "metadata": {
        "id": "6eaDACrWcqbQ"
      },
      "source": [
        ""
      ],
      "execution_count": null,
      "outputs": []
    },
    {
      "cell_type": "code",
      "metadata": {
        "id": "aVXo8Mc_cqY0"
      },
      "source": [
        ""
      ],
      "execution_count": null,
      "outputs": []
    },
    {
      "cell_type": "code",
      "metadata": {
        "id": "-cYOwZXUcqJz"
      },
      "source": [
        ""
      ],
      "execution_count": null,
      "outputs": []
    }
  ]
}